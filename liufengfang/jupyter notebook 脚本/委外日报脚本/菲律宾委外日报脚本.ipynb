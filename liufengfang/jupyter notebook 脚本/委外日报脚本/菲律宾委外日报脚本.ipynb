{
 "cells": [
  {
   "cell_type": "code",
   "execution_count": 23,
   "metadata": {},
   "outputs": [],
   "source": [
    "import pandas as pd\n",
    "from sshtunnel import SSHTunnelForwarder\n",
    "import pymysql\n",
    "from datetime import datetime, timedelta\n",
    "from dateutil.relativedelta import relativedelta\n",
    "import numpy as np\n",
    "import excel导出美化 as mh\n",
    "from send_email import send_bulk_emails_with_attachment"
   ]
  },
  {
   "cell_type": "code",
   "execution_count": null,
   "metadata": {},
   "outputs": [],
   "source": [
    "# 数据结束日期\n",
    "data_end_date = datetime.today().date() - timedelta(days=1)\n",
    "# 数据开始日期\n",
    "data_start_date = (data_end_date - relativedelta(months=1)).replace(day=26) if data_end_date.day < 26 else data_end_date.replace(day=26)"
   ]
  },
  {
   "cell_type": "code",
   "execution_count": null,
   "metadata": {},
   "outputs": [],
   "source": [
    "# 连接菲律宾Bi库 start #\n",
    "# 配置ssh端口转发 start #\n",
    "\n",
    "tunnel = SSHTunnelForwarder(\n",
    "    ('161.117.0.173', 22),\n",
    "    ssh_username='liufengfang',\n",
    "    ssh_password='liufengfang',\n",
    "    # ssh_pkey = r'C:\\Users\\Administrator\\.ssh\\id_rsa',\n",
    "    ssh_pkey = r'/root/.ssh/id_rsa',\n",
    "    remote_bind_address=('rr-t4n1o9w69b029nrh5.mysql.singapore.rds.aliyuncs.com',3306),\n",
    "    local_bind_address=('127.0.0.1', 0))\n",
    "tunnel.start()\n",
    "# 配置ssh端口转发 end #\n",
    "# 获取连接 start #\n",
    "connection = pymysql.connect(\n",
    "    host='127.0.0.1',\n",
    "    port=tunnel.local_bind_port,\n",
    "    user='liufengfang',\n",
    "    password='KVmcFsg@VfgA',\n",
    "    database='bi'\n",
    ")\n",
    "# 获取连接 end #"
   ]
  },
  {
   "cell_type": "code",
   "execution_count": null,
   "metadata": {},
   "outputs": [],
   "source": [
    "bi_performance = '''\n",
    "SELECT\n",
    "\tDATE(bp.stat_time) `统计日期`,\n",
    "\tbp.user_id `员工ID`,\n",
    "\tbp.`name` `指标名称`,\n",
    "\tbp.`value` `指标值`\n",
    "FROM\n",
    "\tbi_performance bp \n",
    "WHERE\n",
    "\t(bp.stat_time BETWEEN '{0}' AND '{1}')\n",
    "'''\n",
    "\n",
    "\n",
    "bi_user_organization = '''\n",
    "SELECT\n",
    "\tDATE(stat_time) `架构日期`,\n",
    "\tuser_id `员工ID`,\n",
    "\tSUBSTRING_INDEX( `asset_group_name`, ',',- 1 ) '组别',\n",
    "\tSUBSTRING_INDEX( SUBSTRING_INDEX( `parent_user_names`, ',', 2 ), ',',-1 ) '主管',\n",
    "\tparent_user_name '组长',\n",
    "    NAME\n",
    "FROM\n",
    "\t`bi_user_organization` \n",
    "WHERE\n",
    "\tstat_time BETWEEN '{0}' AND '{1}' AND asset_group_name IS NOT NULL'''"
   ]
  },
  {
   "cell_type": "code",
   "execution_count": null,
   "metadata": {},
   "outputs": [],
   "source": [
    "# 业绩数据\n",
    "df_perfomance = pd.read_sql_query(bi_performance.format(str(data_start_date)+' 00:00:00',str(data_end_date)+' 23:59:59'),connection)\n",
    "# 月末架构数据取月末T-1天的\n",
    "df_uo = pd.read_sql_query(bi_user_organization.format(str(data_start_date)+' 00:00:00',\n",
    "                                                        str(data_end_date - timedelta(days = 1) if data_end_date.day == 25 else data_end_date)+' 23:59:59'),\n",
    "                                                        connection)\n"
   ]
  },
  {
   "cell_type": "code",
   "execution_count": null,
   "metadata": {},
   "outputs": [],
   "source": [
    "# 取截至数据日最新的架构\n",
    "df_uo_new = df_uo\n",
    "# 转换成日期\n",
    "df_uo_new[\"架构日期\"] = pd.to_datetime(df_uo_new[\"架构日期\"])\n",
    "# 分组求最新架构\n",
    "df_uo_latest = df_uo_new.loc[df_uo_new.groupby('员工ID')['架构日期'].idxmax()]"
   ]
  },
  {
   "cell_type": "code",
   "execution_count": null,
   "metadata": {},
   "outputs": [],
   "source": [
    "# 队列值设置\n",
    "group_a_new = \"Group A New\"\n",
    "# 根据业组设置队列值\n",
    "df_uo_latest[\"队列\"] = np.where(df_uo_latest['组别'].str.contains(\"A New\"),group_a_new,\"该队列无委外\")\n",
    "# 剔除无委外队列的数据\n",
    "df_uo_latest = df_uo_latest[df_uo_latest[\"队列\"] != \"该队列无委外\"]"
   ]
  },
  {
   "cell_type": "code",
   "execution_count": null,
   "metadata": {},
   "outputs": [],
   "source": [
    "# 处理业绩数据\n",
    "df_perfomance_pivot = df_perfomance.pivot(index=[\"统计日期\",\"员工ID\"],columns=\"指标名称\",values=\"指标值\").reset_index()\n",
    "# 按 userID 分组，并获取每个组中日期最大的行的索引\n",
    "idx_max_new = df_perfomance_pivot.groupby('员工ID')['统计日期'].idxmax()\n",
    "# 选择累计最新数据\n",
    "df_perfomance_max_new = df_perfomance_pivot.loc[idx_max_new]\n",
    "# 选择数据列\n",
    "df_perfomance_result = df_perfomance_max_new[[\"员工ID\",\"first_online_day\",\"online_days\",\"avg_call_number\",\"avg_call_time\",\"month_mission_principal_amount\",\"month_recovery_principal_amount\",\"month_recovery_total_amount\",\"month_recovery_rate\",\"leave_day\"]]\n"
   ]
  },
  {
   "cell_type": "code",
   "execution_count": null,
   "metadata": {},
   "outputs": [],
   "source": [
    "# 合并数据\n",
    "result_peformance = pd.merge(df_uo_latest,df_perfomance_result,how=\"left\",on=\"员工ID\")\n",
    "# 剔除上线天数为0的人\n",
    "co = [\"online_days\"]\n",
    "tichu = result_peformance[co].isna() | (result_peformance[co] == 0) | (result_peformance[co] == '0')\n",
    "result_peformance = result_peformance[ ~ tichu.any(axis = 1)]"
   ]
  },
  {
   "cell_type": "code",
   "execution_count": null,
   "metadata": {},
   "outputs": [],
   "source": [
    "# 设置催回率排名\n",
    "result_peformance[\"催回率排名\"] = result_peformance.groupby(\"队列\")[\"month_recovery_rate\"].rank(ascending=False)"
   ]
  },
  {
   "cell_type": "code",
   "execution_count": null,
   "metadata": {},
   "outputs": [],
   "source": [
    "# 设置排名区间\n",
    "result_peformance[\"队列最大排名\"] = result_peformance.groupby(\"队列\")[\"催回率排名\"].transform(\"max\")\n",
    "# result_peformance.to_excel(\"./测试.xlsx\")"
   ]
  },
  {
   "cell_type": "code",
   "execution_count": null,
   "metadata": {},
   "outputs": [],
   "source": [
    "# 排名区间算法\n",
    "def calculation_interval(row):\n",
    "    队列最大排名 = row[\"队列最大排名\"]\n",
    "    if row['催回率排名'] <= round(队列最大排名 * 0.05,2):\n",
    "        return \"Top5%\"\n",
    "    elif row['催回率排名'] <= round(队列最大排名 * 0.25,2):\n",
    "        return \"5%-25%\"\n",
    "    elif row['催回率排名'] <= round(队列最大排名 * 0.5,2):\n",
    "        return \"25%-50%\"\n",
    "    elif row['催回率排名'] <= round(队列最大排名 * 0.7,2):\n",
    "        return \"50%-70%\"\n",
    "    elif row['催回率排名'] <= round(队列最大排名 * 0.9,2):\n",
    "        return \"70%-90%\"\n",
    "    else:\n",
    "        return \"bottom10%\""
   ]
  },
  {
   "cell_type": "code",
   "execution_count": null,
   "metadata": {},
   "outputs": [],
   "source": [
    "# 计算排名区间赋值\n",
    "result_peformance[\"催回率排名区间\"] = result_peformance.apply(calculation_interval,axis=1)"
   ]
  },
  {
   "cell_type": "code",
   "execution_count": null,
   "metadata": {},
   "outputs": [],
   "source": [
    "# 选取列数据导出excle\n",
    "result = result_peformance[[\"队列\",\"组别\",\"主管\",\"组长\",\"NAME\",\"first_online_day\",\"online_days\",\"avg_call_number\",\"avg_call_time\",\"month_mission_principal_amount\",\"month_recovery_principal_amount\",\"month_recovery_total_amount\",\"month_recovery_rate\",\"催回率排名\",\"催回率排名区间\"]]"
   ]
  },
  {
   "cell_type": "code",
   "execution_count": null,
   "metadata": {},
   "outputs": [],
   "source": [
    "# 修改列名称\n",
    "result.rename(columns={ '组别': '业务组别',\n",
    "                        'NAME': '催员',\n",
    "                        'first_online_day': '首次上线日期',\n",
    "                        'online_days': '当月上线天数',\n",
    "                        'avg_call_number': '日均拨打次数',\n",
    "                        'avg_call_time': '日均通话时长',\n",
    "                        'month_mission_principal_amount': '月累计分案本金',\n",
    "                        'month_recovery_principal_amount': '月累计回款本金',\n",
    "                        'month_recovery_total_amount': '月累计总实收',\n",
    "                        'month_recovery_rate': '月累计催回率'\n",
    "                       },inplace=True)\n"
   ]
  },
  {
   "cell_type": "code",
   "execution_count": null,
   "metadata": {},
   "outputs": [],
   "source": [
    "# 转换数据类型\n",
    "result[\"日均拨打次数\"] = pd.to_numeric(result[\"日均拨打次数\"], errors='coerce')\n",
    "result[\"日均通话时长\"] = pd.to_numeric(result[\"日均通话时长\"], errors='coerce')\n",
    "result[\"当月上线天数\"] = pd.to_numeric(result[\"当月上线天数\"], errors='coerce')\n",
    "result[\"月累计分案本金\"] = pd.to_numeric(result[\"月累计分案本金\"], errors='coerce')\n",
    "result[\"月累计回款本金\"] = pd.to_numeric(result[\"月累计回款本金\"], errors='coerce')\n",
    "result[\"月累计总实收\"] = pd.to_numeric(result[\"月累计总实收\"], errors='coerce')\n",
    "result[\"月累计催回率\"] = pd.to_numeric(result[\"月累计催回率\"], errors='coerce')\n",
    "\n",
    "result[[\"日均拨打次数\", \"日均通话时长\"]] = result[[\"日均拨打次数\", \"日均通话时长\"]].round(2)\n",
    "result[\"月累计催回率\"] = result[\"月累计催回率\"].round(4)\n",
    "result[[\"月累计分案本金\", \"月累计回款本金\",\"月累计总实收\"]] = result[[\"月累计分案本金\", \"月累计回款本金\",\"月累计总实收\"]] / 100\n"
   ]
  },
  {
   "cell_type": "code",
   "execution_count": null,
   "metadata": {},
   "outputs": [],
   "source": [
    "# 排序导出excle\n",
    "result = result.sort_values(by=[\"队列\",\"催回率排名\"],ascending=[True,True])\n",
    "result.to_excel('/usr/local/python_script/philippines_daily_outsourcing_ranking/xlsxFile/菲律宾委外排名数据{0}.xlsx'.format(data_end_date),index=False)\n",
    "mh.beautify_excel('/usr/local/python_script/philippines_daily_outsourcing_ranking/xlsxFile/菲律宾委外排名数据{0}.xlsx'.format(data_end_date))"
   ]
  },
  {
   "cell_type": "code",
   "execution_count": 30,
   "metadata": {},
   "outputs": [
    {
     "name": "stdout",
     "output_type": "stream",
     "text": [
      "邮件已发送到 lichongqing@weidu.ac.cn\n",
      "邮件已发送到 liufengfang@weidu.ac.cn\n"
     ]
    }
   ],
   "source": [
    "# 发送邮件\n",
    "sender_email = 'liufengfang@weidu.ac.cn'\n",
    "sender_password = 'pp6M89B5RJTdwRwD'\n",
    "recipients = ['lichongqing@weidu.ac.cn', 'liufengfang@weidu.ac.cn']\n",
    "subject = '【菲律宾委外排名数据-{0}】'.format(str(data_end_date))\n",
    "body =r\"\"\"<!DOCTYPE html><html><head><style>.indented {margin-left: 20px;}</style></head><body><p>各位好！</p> <p>&nbsp;&nbsp;&nbsp;&nbsp;附件是菲律宾委外排名数据，请查收！谢谢！</p></body></html>\"\"\"\n",
    "attachment_path = '/usr/local/python_script/philippines_daily_outsourcing_ranking/xlsxFile/菲律宾委外排名数据{0}.xlsx'.format(data_end_date)\n",
    "send_bulk_emails_with_attachment(sender_email, sender_password, recipients, subject, body, attachment_path)"
   ]
  }
 ],
 "metadata": {
  "kernelspec": {
   "display_name": "Python 3",
   "language": "python",
   "name": "python3"
  },
  "language_info": {
   "codemirror_mode": {
    "name": "ipython",
    "version": 3
   },
   "file_extension": ".py",
   "mimetype": "text/x-python",
   "name": "python",
   "nbconvert_exporter": "python",
   "pygments_lexer": "ipython3",
   "version": "3.11.4"
  }
 },
 "nbformat": 4,
 "nbformat_minor": 2
}
