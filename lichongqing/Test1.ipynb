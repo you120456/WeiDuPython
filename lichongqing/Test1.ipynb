{
 "cells": [
  {
   "cell_type": "code",
   "execution_count": null,
   "id": "8af3176c-844b-433a-a56f-61dd04ceb319",
   "metadata": {},
   "outputs": [],
   "source": [
    "import pandas as pd\n",
    "import numpy as np\n",
    "from datetime import date\n",
    "from datetime import datetime, timedelta\n",
    "# import warnings\n",
    "# warnings.filterwarnings(\"ignore\")\n",
    "fristdate = pd.to_datetime(\"2024-6-26\") #判断是否首次进入B\n",
    "nowdate = pd.to_datetime(\"2024-7-14\") #手动改成昨天"
   ]
  }
 ],
 "metadata": {
  "kernelspec": {
   "display_name": "Python 3 (ipykernel)",
   "language": "python",
   "name": "python3"
  },
  "language_info": {
   "codemirror_mode": {
    "name": "ipython",
    "version": 3
   },
   "file_extension": ".py",
   "mimetype": "text/x-python",
   "name": "python",
   "nbconvert_exporter": "python",
   "pygments_lexer": "ipython3",
   "version": "3.12.3"
  }
 },
 "nbformat": 4,
 "nbformat_minor": 5
}
