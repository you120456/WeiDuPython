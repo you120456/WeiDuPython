{
 "cells": [
  {
   "cell_type": "code",
   "execution_count": null,
   "id": "initial_id",
   "metadata": {
    "collapsed": true
   },
   "outputs": [],
   "source": [
    ""
   ]
  },
  {
   "metadata": {
    "ExecuteTime": {
     "end_time": "2024-07-17T05:09:57.050720Z",
     "start_time": "2024-07-17T05:09:48.046128Z"
    }
   },
   "cell_type": "code",
   "source": [
    "#!/usr/bin/env python\n",
    "# coding: utf-8\n",
    "\n",
    "import pandas as pd\n",
    "import mysql.connector\n",
    "import datetime\n",
    "import warnings\n",
    "import mysql_config\n",
    "\n",
    "warnings.filterwarnings(\"ignore\")\n",
    "print(\"印尼周报自动化,开始运行：\", datetime.datetime.now())\n",
    "now = datetime.datetime.now().replace(hour=0, minute=0, second=0, microsecond=0)\n",
    "time_end = now - datetime.timedelta(0)\n",
    "time_start = now - datetime.timedelta(7)\n",
    "time_start = now.replace(year=2024, month=7, day=1)  # 数据开始日期\n",
    "time_end = now.replace(year=2024, month=7, day=12)  # 数据截止日期+1day\n",
    "month_start = time_start.replace(day=1, hour=6, minute=0, second=0, microsecond=0)\n",
    "print(time_start.date())\n",
    "# month_start = now.replace(year=2024, month=1, day=1)   # 本月初开始日期\n",
    "\n",
    "print('周报数据时间范围{}--->{}'.format(str(time_start)[5:10],\n",
    "                                str(time_end - datetime.timedelta(1))[:10]))\n",
    "# =============================================================================\n",
    "# 数据导入\n",
    "# # =============================================================================\n",
    "\n",
    "# 每日架构查询\n",
    "sql_day_uo = '''SELECT pt_date as '日期', \n",
    "                manager_user_name '主管',\n",
    "                leader_user_name '组长',\n",
    "                user_id as '催员ID'\n",
    "                FROM `dwd_fox_collect_user_df`\n",
    "                                where pt_date >='{0}'\n",
    "                                AND pt_date <'{1}'\n",
    "                union all \n",
    "                SELECT date('{1}') as '日期', \n",
    "                manager_user_name '主管',\n",
    "                leader_user_name '组长',\n",
    "                user_id as '催员ID'\n",
    "                FROM `dwd_fox_collect_user_df`\n",
    "                                where pt_date >='{2}'\n",
    "                                AND pt_date <'{1}'\n",
    "                    '''.format(str(month_start)[0:10], str(time_end - datetime.timedelta(1))[0:10],\n",
    "                               str(time_end - datetime.timedelta(2))[0:10])\n",
    "day_uo_df = mysql_config.indonesia_bd_engine_read(sql_day_uo, database='fox_dw')  # 每日架构查询\n",
    "print(day_uo_df)\n",
    "\n",
    "# =============================================================================\n",
    "# 数据输出\n",
    "# =============================================================================\n"
   ],
   "id": "708e1479058337c6",
   "outputs": [
    {
     "name": "stdout",
     "output_type": "stream",
     "text": [
      "印尼周报自动化,开始运行： 2024-07-17 13:09:48.977993\n",
      "2024-07-01\n",
      "周报数据时间范围07-01--->2024-07-11\n",
      "              日期                      主管                         组长  \\\n",
      "0     2024-07-11                  chris2       Pretty A. Lumbanbatu   \n",
      "1     2024-07-11                     MKM               Salena Giawa   \n",
      "2     2024-07-11                  chris2         Nur Rahmad Hidayat   \n",
      "3     2024-07-11                     EDN           PUTRI FAJAR SARI   \n",
      "4     2024-07-11                  chris2          Erick Aldiansyach   \n",
      "...          ...                     ...                        ...   \n",
      "4143  2024-07-11                     EDN                 UMAM BALIA   \n",
      "4144  2024-07-11                     EDN                   WALIUDIN   \n",
      "4145  2024-07-11                  chris2          Erick Aldiansyach   \n",
      "4146  2024-07-11                     QIN                  Salsabila   \n",
      "4147  2024-07-11  Vincent (Account Only)  Andriyanto Hendro Elungan   \n",
      "\n",
      "                                  催员ID  \n",
      "0     020d57e90b3f48e4bd26962765a36b01  \n",
      "1     037ae48515654a3e9f0290a540aee434  \n",
      "2     03e98d6082e54b14b9944f9a0661c2b5  \n",
      "3     040bcced47c444338e0eb3c3376d6bc1  \n",
      "4     05b34de9bb6f4d29919854583a95ba68  \n",
      "...                                ...  \n",
      "4143  eccf7d8c79e548fdb793ef48e5ebd559  \n",
      "4144  f020ddec41fc457a8bf2cc082618ca2f  \n",
      "4145  f2bc4fa4ea0a46b186cd51c71495d15d  \n",
      "4146  f511e63aa9c64478982b0c3d7a4bf9bc  \n",
      "4147  f82fa6d616e04ccaaff4edcb06254966  \n",
      "\n",
      "[4148 rows x 4 columns]\n"
     ]
    }
   ],
   "execution_count": 1
  },
  {
   "metadata": {},
   "cell_type": "code",
   "outputs": [],
   "execution_count": null,
   "source": "",
   "id": "8edc301ee3c58d86"
  }
 ],
 "metadata": {
  "kernelspec": {
   "display_name": "Python 3",
   "language": "python",
   "name": "python3"
  },
  "language_info": {
   "codemirror_mode": {
    "name": "ipython",
    "version": 2
   },
   "file_extension": ".py",
   "mimetype": "text/x-python",
   "name": "python",
   "nbconvert_exporter": "python",
   "pygments_lexer": "ipython2",
   "version": "2.7.6"
  }
 },
 "nbformat": 4,
 "nbformat_minor": 5
}
